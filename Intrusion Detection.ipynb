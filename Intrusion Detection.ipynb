{
 "cells": [
  {
   "cell_type": "markdown",
   "metadata": {},
   "source": [
    "#### wg 5 assignment\n",
    "# Anomaly Detection"
   ]
  },
  {
   "cell_type": "markdown",
   "metadata": {},
   "source": [
    "## 1. Random Forests\n",
    "Using Random Forests to get a classification accuracy of 0.9667.\n",
    "(This code is taken from intrusion_detection.py, version of committ 29821ccffaca5817b3fe0b3ae2d972f8132b7999.)"
   ]
  },
  {
   "cell_type": "markdown",
   "metadata": {
    "deletable": true,
    "editable": true
   },
   "source": [
    "(As an aside, I'm using python 3, not 2. Only change that had to be made was on the print statement at [*])"
   ]
  },
  {
   "cell_type": "markdown",
   "metadata": {
    "deletable": true,
    "editable": true
   },
   "source": [
    "#### Imports"
   ]
  },
  {
   "cell_type": "code",
   "execution_count": 1,
   "metadata": {
    "collapsed": false,
    "deletable": true,
    "editable": true
   },
   "outputs": [],
   "source": [
    "import sys\n",
    "import gc\n",
    "\n",
    "import pandas as pd\n",
    "import numpy as np\n",
    "import sklearn as sk\n",
    "from sklearn import preprocessing\n",
    "from sklearn.ensemble import RandomForestClassifier, ExtraTreesClassifier"
   ]
  },
  {
   "cell_type": "code",
   "execution_count": 2,
   "metadata": {
    "collapsed": false,
    "deletable": true,
    "editable": true
   },
   "outputs": [],
   "source": [
    "import autosklearn"
   ]
  },
  {
   "cell_type": "code",
   "execution_count": 3,
   "metadata": {
    "collapsed": true,
    "deletable": true,
    "editable": true
   },
   "outputs": [],
   "source": [
    "import autosklearn.classification\n",
    "import sklearn.cross_validation\n",
    "import sklearn.datasets\n",
    "import sklearn.metrics"
   ]
  },
  {
   "cell_type": "code",
   "execution_count": 4,
   "metadata": {
    "collapsed": false,
    "deletable": true,
    "editable": true
   },
   "outputs": [
    {
     "data": {
      "text/plain": [
       "0"
      ]
     },
     "execution_count": 4,
     "metadata": {},
     "output_type": "execute_result"
    }
   ],
   "source": [
    "gc.collect()"
   ]
  },
  {
   "cell_type": "markdown",
   "metadata": {
    "deletable": true,
    "editable": true
   },
   "source": [
    "Read data."
   ]
  },
  {
   "cell_type": "code",
   "execution_count": 5,
   "metadata": {
    "collapsed": true,
    "deletable": true,
    "editable": true
   },
   "outputs": [],
   "source": [
    "header = pd.read_table(\"kddcup.names.txt\", header=None)\n",
    "att_types = pd.read_table(\"training_attack_types.txt\", sep=\" \", header=None)\n",
    "\n",
    "tr_raw = pd.read_csv(\"kddcup.data_10_percent_corrected\", header=None)\n",
    "test_raw = pd.read_csv(\"kddcup_testdata.corrected\", header=None)"
   ]
  },
  {
   "cell_type": "markdown",
   "metadata": {
    "deletable": true,
    "editable": true
   },
   "source": [
    "Do the preprocessing."
   ]
  },
  {
   "cell_type": "code",
   "execution_count": 6,
   "metadata": {
    "collapsed": true,
    "deletable": true,
    "editable": true
   },
   "outputs": [],
   "source": [
    "def preprocess(dat):\n",
    "    dat.columns = header[0]\n",
    "    att_types.columns = [\"attack\", \"type\"]\n",
    "    dat[\"type\"] = np.nan\n",
    "    for i in range(0, len(att_types[\"attack\"])):\n",
    "        dat.loc[dat[\"attack\"] == att_types.loc[i,].attack, \"type\"] = att_types.loc[i,].type\n",
    "    dat.type = dat.type.fillna(\"unlisted\")\n",
    "    dat.attack = dat.attack.astype('category')\n",
    "\n",
    "    dat[dat.select_dtypes(include=['number']).columns] = preprocessing.scale(\n",
    "        dat[dat.select_dtypes(include=['number']).columns])\n",
    "    dat = pd.get_dummies(dat, columns=['protocol_type', 'service', 'flag'])\n",
    "\n",
    "    return dat"
   ]
  },
  {
   "cell_type": "code",
   "execution_count": 7,
   "metadata": {
    "collapsed": false,
    "deletable": true,
    "editable": true
   },
   "outputs": [
    {
     "name": "stderr",
     "output_type": "stream",
     "text": [
      "/home/valentin/anaconda2/envs/DS-CCMLWI-wg5/lib/python3.5/site-packages/sklearn/preprocessing/data.py:167: UserWarning: Numerical issues were encountered when centering the data and might not be solved. Dataset may contain too large values. You may need to prescale your features.\n",
      "  warnings.warn(\"Numerical issues were encountered \"\n"
     ]
    }
   ],
   "source": [
    "tr = preprocess(tr_raw)\n",
    "test = preprocess(test_raw)  # actual test data (but labeled--don't cheat!)"
   ]
  },
  {
   "cell_type": "markdown",
   "metadata": {
    "deletable": true,
    "editable": true
   },
   "source": [
    "Prepare for classification."
   ]
  },
  {
   "cell_type": "code",
   "execution_count": 8,
   "metadata": {
    "collapsed": true,
    "deletable": true,
    "editable": true
   },
   "outputs": [],
   "source": [
    "# not occurring in training set but occuring in test set so we just add it\n",
    "tr['service_icmp'] = 0\n",
    "test['service_red_i'] = 0\n",
    "test['service_urh_i'] = 0"
   ]
  },
  {
   "cell_type": "code",
   "execution_count": 9,
   "metadata": {
    "collapsed": true,
    "deletable": true,
    "editable": true
   },
   "outputs": [],
   "source": [
    "tr_labels = tr[\"type\"].values\n",
    "tr_features = tr.drop([\"type\", \"attack\"], axis=1).values"
   ]
  },
  {
   "cell_type": "code",
   "execution_count": 10,
   "metadata": {
    "collapsed": true,
    "deletable": true,
    "editable": true
   },
   "outputs": [],
   "source": [
    "test_labels = test[\"type\"].values\n",
    "test_features = test.drop([\"type\", \"attack\"], axis=1).values"
   ]
  },
  {
   "cell_type": "code",
   "execution_count": 11,
   "metadata": {
    "collapsed": false,
    "deletable": true,
    "editable": true
   },
   "outputs": [
    {
     "name": "stdout",
     "output_type": "stream",
     "text": [
      "230668458\n",
      "147203606\n",
      "96\n",
      "112\n",
      "96\n",
      "112\n"
     ]
    }
   ],
   "source": [
    "print(sys.getsizeof(tr))\n",
    "print(sys.getsizeof(test))\n",
    "print(sys.getsizeof(tr_labels))\n",
    "print(sys.getsizeof(tr_features))\n",
    "print(sys.getsizeof(test_labels))\n",
    "print(sys.getsizeof(test_features))"
   ]
  },
  {
   "cell_type": "code",
   "execution_count": 14,
   "metadata": {
    "collapsed": false,
    "deletable": true,
    "editable": true
   },
   "outputs": [
    {
     "name": "stdout",
     "output_type": "stream",
     "text": [
      "0.966704069395\n"
     ]
    }
   ],
   "source": [
    "clf = RandomForestClassifier(n_estimators=10, max_depth=None, min_samples_split=2, random_state=0)\n",
    "clf.fit(tr_features, tr_labels)\n",
    "print(clf.score(test_features, test_labels)) # [*]"
   ]
  },
  {
   "cell_type": "markdown",
   "metadata": {
    "collapsed": true,
    "deletable": true,
    "editable": true
   },
   "source": [
    "naive manual fine-tuning doesn't improve this."
   ]
  },
  {
   "cell_type": "markdown",
   "metadata": {},
   "source": [
    "## 2. Extremely Randomized Trees"
   ]
  },
  {
   "cell_type": "markdown",
   "metadata": {
    "deletable": true,
    "editable": true
   },
   "source": [
    "Try Extremely Randomized Trees for a change. Gets up to .9634 in accuracy."
   ]
  },
  {
   "cell_type": "code",
   "execution_count": 26,
   "metadata": {
    "collapsed": false,
    "deletable": true,
    "editable": true
   },
   "outputs": [
    {
     "name": "stdout",
     "output_type": "stream",
     "text": [
      "0.96174954747\n"
     ]
    }
   ],
   "source": [
    "clf_2 = sk.ensemble.ExtraTreesClassifier(n_estimators=50, max_depth=None, min_samples_split=100, random_state=1)\n",
    "clf_2.fit(tr_features, tr_labels)\n",
    "print(clf_2.score(test_features, test_labels)) # [*]"
   ]
  },
  {
   "cell_type": "code",
   "execution_count": 43,
   "metadata": {
    "collapsed": false,
    "deletable": true,
    "editable": true
   },
   "outputs": [
    {
     "name": "stdout",
     "output_type": "stream",
     "text": [
      "0.96344713837\n"
     ]
    }
   ],
   "source": [
    "clf_3 = sk.ensemble.ExtraTreesClassifier(n_estimators=48, max_depth=None, min_samples_split=100, random_state=1)\n",
    "clf_3.fit(tr_features, tr_labels)\n",
    "print(clf_3.score(test_features, test_labels)) # [*]"
   ]
  },
  {
   "cell_type": "markdown",
   "metadata": {
    "collapsed": true,
    "deletable": true,
    "editable": true
   },
   "source": [
    "if you run this, your computer will (might) crash (mine has):"
   ]
  },
  {
   "cell_type": "raw",
   "metadata": {
    "collapsed": true,
    "deletable": true,
    "editable": true
   },
   "source": [
    "clf_4 = sk.ensemble.ExtraTreesClassifier(n_estimators=1000, max_depth=None, min_samples_split=5, random_state=1)\n",
    "clf_4.fit(tr_features, tr_labels)\n",
    "print(clf_4.score(test_features, test_labels)) # [*]"
   ]
  },
  {
   "cell_type": "code",
   "execution_count": null,
   "metadata": {
    "collapsed": true,
    "deletable": true,
    "editable": true
   },
   "outputs": [],
   "source": []
  },
  {
   "cell_type": "code",
   "execution_count": null,
   "metadata": {
    "collapsed": true
   },
   "outputs": [],
   "source": []
  },
  {
   "cell_type": "code",
   "execution_count": null,
   "metadata": {
    "collapsed": true,
    "deletable": true,
    "editable": true
   },
   "outputs": [],
   "source": []
  },
  {
   "cell_type": "code",
   "execution_count": null,
   "metadata": {
    "collapsed": true,
    "deletable": true,
    "editable": true
   },
   "outputs": [],
   "source": []
  },
  {
   "cell_type": "markdown",
   "metadata": {
    "deletable": true,
    "editable": true
   },
   "source": [
    "## 3. try to find a better model through automation\n",
    "We can automate preprocessing, algorithm selection and tuning the hyperparameters of both. Auto-sklearn is a drop-in replacement of sci-kit learn that is currently the best package to do this (see for instance http://www.kdnuggets.com/2017/01/current-state-automated-machine-learning.html)"
   ]
  },
  {
   "cell_type": "markdown",
   "metadata": {
    "deletable": true,
    "editable": true
   },
   "source": [
    "Let's go!"
   ]
  },
  {
   "cell_type": "markdown",
   "metadata": {
    "deletable": true,
    "editable": true
   },
   "source": [
    "### small example from the documentation first\n",
    "(to get an idea)"
   ]
  },
  {
   "cell_type": "code",
   "execution_count": 10,
   "metadata": {
    "collapsed": true,
    "deletable": true,
    "editable": true
   },
   "outputs": [],
   "source": [
    "digits = sklearn.datasets.load_digits()"
   ]
  },
  {
   "cell_type": "code",
   "execution_count": 11,
   "metadata": {
    "collapsed": true,
    "deletable": true,
    "editable": true
   },
   "outputs": [],
   "source": [
    "X = digits.data\n",
    "y = digits.target"
   ]
  },
  {
   "cell_type": "code",
   "execution_count": 12,
   "metadata": {
    "collapsed": true,
    "deletable": true,
    "editable": true
   },
   "outputs": [],
   "source": [
    "X_train, X_test, y_train, y_test = \\\n",
    "    sklearn.cross_validation.train_test_split(X, y, random_state=1)"
   ]
  },
  {
   "cell_type": "code",
   "execution_count": 13,
   "metadata": {
    "collapsed": true,
    "deletable": true,
    "editable": true
   },
   "outputs": [],
   "source": [
    "automl = autosklearn.classification.AutoSklearnClassifier(time_left_for_this_task=1200)"
   ]
  },
  {
   "cell_type": "code",
   "execution_count": 9,
   "metadata": {
    "collapsed": true,
    "deletable": true,
    "editable": true
   },
   "outputs": [
    {
     "name": "stderr",
     "output_type": "stream",
     "text": [
      "You are already timing task: index_run5\n",
      "You are already timing task: index_run6\n",
      "You are already timing task: index_run6\n",
      "You are already timing task: index_run6\n",
      "You are already timing task: index_run6\n",
      "You are already timing task: index_run6\n",
      "You are already timing task: index_run6\n",
      "You are already timing task: index_run6\n",
      "You are already timing task: index_run6\n",
      "You are already timing task: index_run6\n",
      "You are already timing task: index_run6\n",
      "You are already timing task: index_run6\n",
      "Process pynisher function call:\n",
      "Traceback (most recent call last):\n",
      "  File \"/home/valentin/anaconda2/envs/DS-CCMLWI-wg5/lib/python3.5/multiprocessing/process.py\", line 249, in _bootstrap\n",
      "    self.run()\n",
      "  File \"/home/valentin/anaconda2/envs/DS-CCMLWI-wg5/lib/python3.5/multiprocessing/process.py\", line 93, in run\n",
      "    self._target(*self._args, **self._kwargs)\n",
      "  File \"/home/valentin/anaconda2/envs/DS-CCMLWI-wg5/lib/python3.5/site-packages/pynisher/limit_function_call.py\", line 83, in subprocess_func\n",
      "    return_value = ((func(*args, **kwargs), 0))\n",
      "  File \"/home/valentin/anaconda2/envs/DS-CCMLWI-wg5/lib/python3.5/site-packages/autosklearn/evaluation/train_evaluator.py\", line 284, in eval_holdout\n",
      "    evaluator.fit_predict_and_loss(iterative=iterative)\n",
      "  File \"/home/valentin/anaconda2/envs/DS-CCMLWI-wg5/lib/python3.5/site-packages/autosklearn/evaluation/train_evaluator.py\", line 77, in fit_predict_and_loss\n",
      "    i, train_indices=train_split, test_indices=test_split)\n",
      "  File \"/home/valentin/anaconda2/envs/DS-CCMLWI-wg5/lib/python3.5/site-packages/autosklearn/evaluation/train_evaluator.py\", line 211, in _partial_fit_and_predict\n",
      "    self.Y_train[train_indices])\n",
      "  File \"/home/valentin/anaconda2/envs/DS-CCMLWI-wg5/lib/python3.5/site-packages/autosklearn/evaluation/abstract_evaluator.py\", line 340, in _fit_and_suppress_warnings\n",
      "    model.fit(X, y)\n",
      "  File \"/home/valentin/anaconda2/envs/DS-CCMLWI-wg5/lib/python3.5/site-packages/autosklearn/pipeline/base.py\", line 88, in fit\n",
      "    X, fit_params = self.pre_transform(X, y, fit_params=fit_params)\n",
      "  File \"/home/valentin/anaconda2/envs/DS-CCMLWI-wg5/lib/python3.5/site-packages/autosklearn/pipeline/classification.py\", line 102, in pre_transform\n",
      "    X, y, fit_params=fit_params)\n",
      "  File \"/home/valentin/anaconda2/envs/DS-CCMLWI-wg5/lib/python3.5/site-packages/autosklearn/pipeline/base.py\", line 98, in pre_transform\n",
      "    X, fit_params = self._pre_transform(X, y, **fit_params)\n",
      "  File \"/home/valentin/anaconda2/envs/DS-CCMLWI-wg5/lib/python3.5/site-packages/sklearn/pipeline.py\", line 147, in _pre_transform\n",
      "    Xt = transform.fit(Xt, y, **fit_params_steps[name]) \\\n",
      "  File \"/home/valentin/anaconda2/envs/DS-CCMLWI-wg5/lib/python3.5/site-packages/autosklearn/pipeline/components/base.py\", line 379, in fit\n",
      "    return self.choice.fit(X, y, **kwargs)\n",
      "  File \"/home/valentin/anaconda2/envs/DS-CCMLWI-wg5/lib/python3.5/site-packages/autosklearn/pipeline/components/feature_preprocessing/feature_agglomeration.py\", line 37, in fit\n",
      "    self.preprocessor.fit(X)\n",
      "  File \"/home/valentin/anaconda2/envs/DS-CCMLWI-wg5/lib/python3.5/site-packages/sklearn/cluster/hierarchical.py\", line 874, in fit\n",
      "    return AgglomerativeClustering.fit(self, X.T, **params)\n",
      "  File \"/home/valentin/anaconda2/envs/DS-CCMLWI-wg5/lib/python3.5/site-packages/sklearn/cluster/hierarchical.py\", line 765, in fit\n",
      "    **kwargs)\n",
      "  File \"/home/valentin/anaconda2/envs/DS-CCMLWI-wg5/lib/python3.5/site-packages/sklearn/externals/joblib/memory.py\", line 283, in __call__\n",
      "    return self.func(*args, **kwargs)\n",
      "  File \"/home/valentin/anaconda2/envs/DS-CCMLWI-wg5/lib/python3.5/site-packages/sklearn/cluster/hierarchical.py\", line 549, in _average_linkage\n",
      "    return linkage_tree(*args, **kwargs)\n",
      "  File \"/home/valentin/anaconda2/envs/DS-CCMLWI-wg5/lib/python3.5/site-packages/sklearn/cluster/hierarchical.py\", line 430, in linkage_tree\n",
      "    out = hierarchy.linkage(X, method=linkage, metric=affinity)\n",
      "  File \"/home/valentin/anaconda2/envs/DS-CCMLWI-wg5/lib/python3.5/site-packages/scipy/cluster/hierarchy.py\", line 676, in linkage\n",
      "    raise ValueError(\"The condensed distance matrix must contain only finite values.\")\n",
      "ValueError: The condensed distance matrix must contain only finite values.\n",
      "You are already timing task: index_run6\n",
      "You are already timing task: index_run6\n",
      "You are already timing task: index_run6\n",
      "You are already timing task: index_run6\n"
     ]
    },
    {
     "name": "stdout",
     "output_type": "stream",
     "text": [
      "[WARNING] [2017-03-22 18:00:46,313:intensifier] Challenger was the same as the current incumbent; Skipping challenger\n",
      "[WARNING] [2017-03-22 18:00:46,313:intensifier] Challenger was the same as the current incumbent; Skipping challenger\n"
     ]
    },
    {
     "name": "stderr",
     "output_type": "stream",
     "text": [
      "You are already timing task: index_run6\n"
     ]
    },
    {
     "name": "stdout",
     "output_type": "stream",
     "text": [
      "[WARNING] [2017-03-22 18:01:01,781:intensifier] Challenger was the same as the current incumbent; Skipping challenger\n",
      "[WARNING] [2017-03-22 18:01:01,781:intensifier] Challenger was the same as the current incumbent; Skipping challenger\n"
     ]
    }
   ],
   "source": [
    "automl.fit(X_train, y_train)"
   ]
  },
  {
   "cell_type": "code",
   "execution_count": 10,
   "metadata": {
    "collapsed": true,
    "deletable": true,
    "editable": true
   },
   "outputs": [],
   "source": [
    "y_hat = automl.predict(X_test)"
   ]
  },
  {
   "cell_type": "code",
   "execution_count": 11,
   "metadata": {
    "collapsed": false,
    "deletable": true,
    "editable": true
   },
   "outputs": [
    {
     "name": "stdout",
     "output_type": "stream",
     "text": [
      "Accuracy score 0.986666666667\n"
     ]
    }
   ],
   "source": [
    "print(\"Accuracy score\", sklearn.metrics.accuracy_score(y_test, y_hat))"
   ]
  },
  {
   "cell_type": "markdown",
   "metadata": {
    "collapsed": true,
    "deletable": true,
    "editable": true
   },
   "source": [
    "Wow, this takes long! No wonder, it's doing a lot... (default is to terminate after 60 minutes, see https://automl.github.io/auto-sklearn/stable/api.html)\n",
    "\n",
    ".98666 is what we'd expect as per the example, nice.\n",
    "\n",
    "TODO: how big is that data set? Based on that, for how long do we have to expect our computation to take if it should go anywhere? How much time to allocate?"
   ]
  },
  {
   "cell_type": "code",
   "execution_count": 14,
   "metadata": {
    "collapsed": false,
    "deletable": true,
    "editable": true
   },
   "outputs": [
    {
     "data": {
      "text/plain": [
       "304"
      ]
     },
     "execution_count": 14,
     "metadata": {},
     "output_type": "execute_result"
    }
   ],
   "source": [
    "import sys\n",
    "sys.getsizeof(digits)"
   ]
  },
  {
   "cell_type": "markdown",
   "metadata": {
    "deletable": true,
    "editable": true
   },
   "source": [
    ".3 KB. that's nothing!"
   ]
  },
  {
   "cell_type": "code",
   "execution_count": 15,
   "metadata": {
    "collapsed": false,
    "deletable": true,
    "editable": true
   },
   "outputs": [
    {
     "data": {
      "text/plain": [
       "230668458"
      ]
     },
     "execution_count": 15,
     "metadata": {},
     "output_type": "execute_result"
    }
   ],
   "source": [
    "sys.getsizeof()"
   ]
  },
  {
   "cell_type": "markdown",
   "metadata": {
    "deletable": true,
    "editable": true
   },
   "source": [
    "6 orders of magnitude larger, heh! Let's see where this goes."
   ]
  },
  {
   "cell_type": "markdown",
   "metadata": {
    "collapsed": true,
    "deletable": true,
    "editable": true
   },
   "source": [
    "### now back to our own task"
   ]
  },
  {
   "cell_type": "code",
   "execution_count": 13,
   "metadata": {
    "collapsed": true,
    "deletable": true,
    "editable": true
   },
   "outputs": [
    {
     "name": "stdout",
     "output_type": "stream",
     "text": [
      "[ERROR] [2017-03-22 19:25:13,652:AutoML(1):9757dd88af9ad89e9f3939c2f9337b06] Error creating dummy predictions:Memout \n"
     ]
    },
    {
     "ename": "ValueError",
     "evalue": "Trying to include unknown component: svc",
     "output_type": "error",
     "traceback": [
      "\u001b[0;31m---------------------------------------------------------------------------\u001b[0m",
      "\u001b[0;31mValueError\u001b[0m                                Traceback (most recent call last)",
      "\u001b[0;32m<ipython-input-13-4871c09c9cb2>\u001b[0m in \u001b[0;36m<module>\u001b[0;34m()\u001b[0m\n\u001b[1;32m      4\u001b[0m \u001b[0;31m# the above line translates the following line to autosklearn:\u001b[0m\u001b[0;34m\u001b[0m\u001b[0;34m\u001b[0m\u001b[0m\n\u001b[1;32m      5\u001b[0m \u001b[0;31m# clf = RandomForestClassifier(n_estimators=10, max_depth=None, min_samples_split=2, random_state=0)\u001b[0m\u001b[0;34m\u001b[0m\u001b[0;34m\u001b[0m\u001b[0m\n\u001b[0;32m----> 6\u001b[0;31m \u001b[0mautoclf\u001b[0m\u001b[0;34m.\u001b[0m\u001b[0mfit\u001b[0m\u001b[0;34m(\u001b[0m\u001b[0mtr_features\u001b[0m\u001b[0;34m,\u001b[0m \u001b[0mtr_labels\u001b[0m\u001b[0;34m,\u001b[0m \u001b[0mmetric\u001b[0m\u001b[0;34m=\u001b[0m\u001b[0;34m'f1_metric'\u001b[0m\u001b[0;34m)\u001b[0m\u001b[0;34m\u001b[0m\u001b[0m\n\u001b[0m\u001b[1;32m      7\u001b[0m \u001b[0;31m# the above line translates the following line to autosklearn:\u001b[0m\u001b[0;34m\u001b[0m\u001b[0;34m\u001b[0m\u001b[0m\n\u001b[1;32m      8\u001b[0m \u001b[0;31m# clf.fit(tr_features, tr_labels)\u001b[0m\u001b[0;34m\u001b[0m\u001b[0;34m\u001b[0m\u001b[0m\n",
      "\u001b[0;32m/home/valentin/anaconda2/envs/DS-CCMLWI-wg5/lib/python3.5/site-packages/autosklearn/estimators.py\u001b[0m in \u001b[0;36mfit\u001b[0;34m(self, X, y, metric, feat_type, dataset_name)\u001b[0m\n\u001b[1;32m    356\u001b[0m         return super(AutoSklearnClassifier, self).fit(X=X, y=y, metric=metric,\n\u001b[1;32m    357\u001b[0m                                                       \u001b[0mfeat_type\u001b[0m\u001b[0;34m=\u001b[0m\u001b[0mfeat_type\u001b[0m\u001b[0;34m,\u001b[0m\u001b[0;34m\u001b[0m\u001b[0m\n\u001b[0;32m--> 358\u001b[0;31m                                                       dataset_name=dataset_name)\n\u001b[0m\u001b[1;32m    359\u001b[0m \u001b[0;34m\u001b[0m\u001b[0m\n\u001b[1;32m    360\u001b[0m     \u001b[0;32mdef\u001b[0m \u001b[0mpredict\u001b[0m\u001b[0;34m(\u001b[0m\u001b[0mself\u001b[0m\u001b[0;34m,\u001b[0m \u001b[0mX\u001b[0m\u001b[0;34m)\u001b[0m\u001b[0;34m:\u001b[0m\u001b[0;34m\u001b[0m\u001b[0m\n",
      "\u001b[0;32m/home/valentin/anaconda2/envs/DS-CCMLWI-wg5/lib/python3.5/site-packages/autosklearn/estimators.py\u001b[0m in \u001b[0;36mfit\u001b[0;34m(self, *args, **kwargs)\u001b[0m\n\u001b[1;32m    299\u001b[0m     \u001b[0;32mdef\u001b[0m \u001b[0mfit\u001b[0m\u001b[0;34m(\u001b[0m\u001b[0mself\u001b[0m\u001b[0;34m,\u001b[0m \u001b[0;34m*\u001b[0m\u001b[0margs\u001b[0m\u001b[0;34m,\u001b[0m \u001b[0;34m**\u001b[0m\u001b[0mkwargs\u001b[0m\u001b[0;34m)\u001b[0m\u001b[0;34m:\u001b[0m\u001b[0;34m\u001b[0m\u001b[0m\n\u001b[1;32m    300\u001b[0m         \u001b[0mself\u001b[0m\u001b[0;34m.\u001b[0m\u001b[0m_automl\u001b[0m \u001b[0;34m=\u001b[0m \u001b[0mself\u001b[0m\u001b[0;34m.\u001b[0m\u001b[0mbuild_automl\u001b[0m\u001b[0;34m(\u001b[0m\u001b[0;34m)\u001b[0m\u001b[0;34m\u001b[0m\u001b[0m\n\u001b[0;32m--> 301\u001b[0;31m         \u001b[0msuper\u001b[0m\u001b[0;34m(\u001b[0m\u001b[0mAutoSklearnEstimator\u001b[0m\u001b[0;34m,\u001b[0m \u001b[0mself\u001b[0m\u001b[0;34m)\u001b[0m\u001b[0;34m.\u001b[0m\u001b[0mfit\u001b[0m\u001b[0;34m(\u001b[0m\u001b[0;34m*\u001b[0m\u001b[0margs\u001b[0m\u001b[0;34m,\u001b[0m \u001b[0;34m**\u001b[0m\u001b[0mkwargs\u001b[0m\u001b[0;34m)\u001b[0m\u001b[0;34m\u001b[0m\u001b[0m\n\u001b[0m\u001b[1;32m    302\u001b[0m \u001b[0;34m\u001b[0m\u001b[0m\n\u001b[1;32m    303\u001b[0m     def fit_ensemble(self, y, task=None, metric=None, precision='32',\n",
      "\u001b[0;32m/home/valentin/anaconda2/envs/DS-CCMLWI-wg5/lib/python3.5/site-packages/autosklearn/estimators.py\u001b[0m in \u001b[0;36mfit\u001b[0;34m(self, *args, **kwargs)\u001b[0m\n\u001b[1;32m     19\u001b[0m \u001b[0;34m\u001b[0m\u001b[0m\n\u001b[1;32m     20\u001b[0m     \u001b[0;32mdef\u001b[0m \u001b[0mfit\u001b[0m\u001b[0;34m(\u001b[0m\u001b[0mself\u001b[0m\u001b[0;34m,\u001b[0m \u001b[0;34m*\u001b[0m\u001b[0margs\u001b[0m\u001b[0;34m,\u001b[0m \u001b[0;34m**\u001b[0m\u001b[0mkwargs\u001b[0m\u001b[0;34m)\u001b[0m\u001b[0;34m:\u001b[0m\u001b[0;34m\u001b[0m\u001b[0m\n\u001b[0;32m---> 21\u001b[0;31m         \u001b[0mself\u001b[0m\u001b[0;34m.\u001b[0m\u001b[0m_automl\u001b[0m\u001b[0;34m.\u001b[0m\u001b[0mfit\u001b[0m\u001b[0;34m(\u001b[0m\u001b[0;34m*\u001b[0m\u001b[0margs\u001b[0m\u001b[0;34m,\u001b[0m \u001b[0;34m**\u001b[0m\u001b[0mkwargs\u001b[0m\u001b[0;34m)\u001b[0m\u001b[0;34m\u001b[0m\u001b[0m\n\u001b[0m\u001b[1;32m     22\u001b[0m \u001b[0;34m\u001b[0m\u001b[0m\n\u001b[1;32m     23\u001b[0m     \u001b[0;32mdef\u001b[0m \u001b[0mrefit\u001b[0m\u001b[0;34m(\u001b[0m\u001b[0mself\u001b[0m\u001b[0;34m,\u001b[0m \u001b[0mX\u001b[0m\u001b[0;34m,\u001b[0m \u001b[0my\u001b[0m\u001b[0;34m)\u001b[0m\u001b[0;34m:\u001b[0m\u001b[0;34m\u001b[0m\u001b[0m\n",
      "\u001b[0;32m/home/valentin/anaconda2/envs/DS-CCMLWI-wg5/lib/python3.5/site-packages/autosklearn/estimators.py\u001b[0m in \u001b[0;36mfit\u001b[0;34m(self, X, y, metric, loss, feat_type, dataset_name)\u001b[0m\n\u001b[1;32m    486\u001b[0m                 \u001b[0mtask\u001b[0m \u001b[0;34m=\u001b[0m \u001b[0mMULTICLASS_CLASSIFICATION\u001b[0m\u001b[0;34m\u001b[0m\u001b[0m\n\u001b[1;32m    487\u001b[0m \u001b[0;34m\u001b[0m\u001b[0m\n\u001b[0;32m--> 488\u001b[0;31m         \u001b[0;32mreturn\u001b[0m \u001b[0mself\u001b[0m\u001b[0;34m.\u001b[0m\u001b[0m_automl\u001b[0m\u001b[0;34m.\u001b[0m\u001b[0mfit\u001b[0m\u001b[0;34m(\u001b[0m\u001b[0mX\u001b[0m\u001b[0;34m,\u001b[0m \u001b[0my\u001b[0m\u001b[0;34m,\u001b[0m \u001b[0mtask\u001b[0m\u001b[0;34m,\u001b[0m \u001b[0mmetric\u001b[0m\u001b[0;34m,\u001b[0m \u001b[0mfeat_type\u001b[0m\u001b[0;34m,\u001b[0m \u001b[0mdataset_name\u001b[0m\u001b[0;34m)\u001b[0m\u001b[0;34m\u001b[0m\u001b[0m\n\u001b[0m\u001b[1;32m    489\u001b[0m \u001b[0;34m\u001b[0m\u001b[0m\n\u001b[1;32m    490\u001b[0m     def fit_ensemble(self, y, task=None, metric=None, precision='32',\n",
      "\u001b[0;32m/home/valentin/anaconda2/envs/DS-CCMLWI-wg5/lib/python3.5/site-packages/autosklearn/automl.py\u001b[0m in \u001b[0;36mfit\u001b[0;34m(self, X, y, task, metric, feat_type, dataset_name)\u001b[0m\n\u001b[1;32m    170\u001b[0m                                             encode_labels=False)\n\u001b[1;32m    171\u001b[0m \u001b[0;34m\u001b[0m\u001b[0m\n\u001b[0;32m--> 172\u001b[0;31m         \u001b[0;32mreturn\u001b[0m \u001b[0mself\u001b[0m\u001b[0;34m.\u001b[0m\u001b[0m_fit\u001b[0m\u001b[0;34m(\u001b[0m\u001b[0mloaded_data_manager\u001b[0m\u001b[0;34m)\u001b[0m\u001b[0;34m\u001b[0m\u001b[0m\n\u001b[0m\u001b[1;32m    173\u001b[0m \u001b[0;34m\u001b[0m\u001b[0m\n\u001b[1;32m    174\u001b[0m     \u001b[0;32mdef\u001b[0m \u001b[0mfit_automl_dataset\u001b[0m\u001b[0;34m(\u001b[0m\u001b[0mself\u001b[0m\u001b[0;34m,\u001b[0m \u001b[0mdataset\u001b[0m\u001b[0;34m)\u001b[0m\u001b[0;34m:\u001b[0m\u001b[0;34m\u001b[0m\u001b[0m\n",
      "\u001b[0;32m/home/valentin/anaconda2/envs/DS-CCMLWI-wg5/lib/python3.5/site-packages/autosklearn/automl.py\u001b[0m in \u001b[0;36m_fit\u001b[0;34m(self, datamanager)\u001b[0m\n\u001b[1;32m    332\u001b[0m             \u001b[0mexclude_estimators\u001b[0m\u001b[0;34m=\u001b[0m\u001b[0mself\u001b[0m\u001b[0;34m.\u001b[0m\u001b[0m_exclude_estimators\u001b[0m\u001b[0;34m,\u001b[0m\u001b[0;34m\u001b[0m\u001b[0m\n\u001b[1;32m    333\u001b[0m             \u001b[0minclude_preprocessors\u001b[0m\u001b[0;34m=\u001b[0m\u001b[0mself\u001b[0m\u001b[0;34m.\u001b[0m\u001b[0m_include_preprocessors\u001b[0m\u001b[0;34m,\u001b[0m\u001b[0;34m\u001b[0m\u001b[0m\n\u001b[0;32m--> 334\u001b[0;31m             exclude_preprocessors=self._exclude_preprocessors)\n\u001b[0m\u001b[1;32m    335\u001b[0m \u001b[0;34m\u001b[0m\u001b[0m\n\u001b[1;32m    336\u001b[0m         \u001b[0;31m# == RUN ensemble builder\u001b[0m\u001b[0;34m\u001b[0m\u001b[0;34m\u001b[0m\u001b[0m\n",
      "\u001b[0;32m/home/valentin/anaconda2/envs/DS-CCMLWI-wg5/lib/python3.5/site-packages/autosklearn/automl.py\u001b[0m in \u001b[0;36m_create_search_space\u001b[0;34m(self, tmp_dir, backend, datamanager, include_estimators, exclude_estimators, include_preprocessors, exclude_preprocessors)\u001b[0m\n\u001b[1;32m    771\u001b[0m             \u001b[0mexclude_estimators\u001b[0m\u001b[0;34m=\u001b[0m\u001b[0mexclude_estimators\u001b[0m\u001b[0;34m,\u001b[0m\u001b[0;34m\u001b[0m\u001b[0m\n\u001b[1;32m    772\u001b[0m             \u001b[0minclude_preprocessors\u001b[0m\u001b[0;34m=\u001b[0m\u001b[0minclude_preprocessors\u001b[0m\u001b[0;34m,\u001b[0m\u001b[0;34m\u001b[0m\u001b[0m\n\u001b[0;32m--> 773\u001b[0;31m             exclude_preprocessors=exclude_preprocessors)\n\u001b[0m\u001b[1;32m    774\u001b[0m         configuration_space = self.configuration_space_created_hook(\n\u001b[1;32m    775\u001b[0m             datamanager, configuration_space)\n",
      "\u001b[0;32m/home/valentin/anaconda2/envs/DS-CCMLWI-wg5/lib/python3.5/site-packages/autosklearn/util/pipeline.py\u001b[0m in \u001b[0;36mget_configuration_space\u001b[0;34m(info, include_estimators, exclude_estimators, include_preprocessors, exclude_preprocessors)\u001b[0m\n\u001b[1;32m     48\u001b[0m         \u001b[0;32mreturn\u001b[0m \u001b[0m_get_regression_configuration_space\u001b[0m\u001b[0;34m(\u001b[0m\u001b[0minfo\u001b[0m\u001b[0;34m,\u001b[0m \u001b[0minclude\u001b[0m\u001b[0;34m,\u001b[0m \u001b[0mexclude\u001b[0m\u001b[0;34m)\u001b[0m\u001b[0;34m\u001b[0m\u001b[0m\n\u001b[1;32m     49\u001b[0m     \u001b[0;32melse\u001b[0m\u001b[0;34m:\u001b[0m\u001b[0;34m\u001b[0m\u001b[0m\n\u001b[0;32m---> 50\u001b[0;31m         \u001b[0;32mreturn\u001b[0m \u001b[0m_get_classification_configuration_space\u001b[0m\u001b[0;34m(\u001b[0m\u001b[0minfo\u001b[0m\u001b[0;34m,\u001b[0m \u001b[0minclude\u001b[0m\u001b[0;34m,\u001b[0m \u001b[0mexclude\u001b[0m\u001b[0;34m)\u001b[0m\u001b[0;34m\u001b[0m\u001b[0m\n\u001b[0m\u001b[1;32m     51\u001b[0m \u001b[0;34m\u001b[0m\u001b[0m\n\u001b[1;32m     52\u001b[0m \u001b[0;34m\u001b[0m\u001b[0m\n",
      "\u001b[0;32m/home/valentin/anaconda2/envs/DS-CCMLWI-wg5/lib/python3.5/site-packages/autosklearn/util/pipeline.py\u001b[0m in \u001b[0;36m_get_classification_configuration_space\u001b[0;34m(info, include, exclude)\u001b[0m\n\u001b[1;32m     88\u001b[0m     return SimpleClassificationPipeline(\n\u001b[1;32m     89\u001b[0m         \u001b[0mdataset_properties\u001b[0m\u001b[0;34m=\u001b[0m\u001b[0mdataset_properties\u001b[0m\u001b[0;34m,\u001b[0m\u001b[0;34m\u001b[0m\u001b[0m\n\u001b[0;32m---> 90\u001b[0;31m         include=include, exclude=exclude).\\\n\u001b[0m\u001b[1;32m     91\u001b[0m         \u001b[0mget_hyperparameter_search_space\u001b[0m\u001b[0;34m(\u001b[0m\u001b[0;34m)\u001b[0m\u001b[0;34m\u001b[0m\u001b[0m\n\u001b[1;32m     92\u001b[0m \u001b[0;34m\u001b[0m\u001b[0m\n",
      "\u001b[0;32m/home/valentin/anaconda2/envs/DS-CCMLWI-wg5/lib/python3.5/site-packages/autosklearn/pipeline/classification.py\u001b[0m in \u001b[0;36m__init__\u001b[0;34m(self, config, pipeline, dataset_properties, include, exclude, random_state, init_params)\u001b[0m\n\u001b[1;32m     79\u001b[0m         super(SimpleClassificationPipeline, self).__init__(\n\u001b[1;32m     80\u001b[0m             \u001b[0mconfig\u001b[0m\u001b[0;34m,\u001b[0m \u001b[0mpipeline\u001b[0m\u001b[0;34m,\u001b[0m \u001b[0mdataset_properties\u001b[0m\u001b[0;34m,\u001b[0m \u001b[0minclude\u001b[0m\u001b[0;34m,\u001b[0m \u001b[0mexclude\u001b[0m\u001b[0;34m,\u001b[0m\u001b[0;34m\u001b[0m\u001b[0m\n\u001b[0;32m---> 81\u001b[0;31m             random_state, init_params)\n\u001b[0m\u001b[1;32m     82\u001b[0m \u001b[0;34m\u001b[0m\u001b[0m\n\u001b[1;32m     83\u001b[0m     \u001b[0;32mdef\u001b[0m \u001b[0mpre_transform\u001b[0m\u001b[0;34m(\u001b[0m\u001b[0mself\u001b[0m\u001b[0;34m,\u001b[0m \u001b[0mX\u001b[0m\u001b[0;34m,\u001b[0m \u001b[0my\u001b[0m\u001b[0;34m,\u001b[0m \u001b[0mfit_params\u001b[0m\u001b[0;34m=\u001b[0m\u001b[0;32mNone\u001b[0m\u001b[0;34m)\u001b[0m\u001b[0;34m:\u001b[0m\u001b[0;34m\u001b[0m\u001b[0m\n",
      "\u001b[0;32m/home/valentin/anaconda2/envs/DS-CCMLWI-wg5/lib/python3.5/site-packages/autosklearn/pipeline/base.py\u001b[0m in \u001b[0;36m__init__\u001b[0;34m(self, config, pipeline, dataset_properties, include, exclude, random_state, init_params)\u001b[0m\n\u001b[1;32m     33\u001b[0m             \u001b[0mself\u001b[0m\u001b[0;34m.\u001b[0m\u001b[0msteps\u001b[0m \u001b[0;34m=\u001b[0m \u001b[0mpipeline\u001b[0m\u001b[0;34m\u001b[0m\u001b[0m\n\u001b[1;32m     34\u001b[0m \u001b[0;34m\u001b[0m\u001b[0m\n\u001b[0;32m---> 35\u001b[0;31m         \u001b[0mself\u001b[0m\u001b[0;34m.\u001b[0m\u001b[0mconfig_space\u001b[0m \u001b[0;34m=\u001b[0m \u001b[0mself\u001b[0m\u001b[0;34m.\u001b[0m\u001b[0mget_hyperparameter_search_space\u001b[0m\u001b[0;34m(\u001b[0m\u001b[0;34m)\u001b[0m\u001b[0;34m\u001b[0m\u001b[0m\n\u001b[0m\u001b[1;32m     36\u001b[0m \u001b[0;34m\u001b[0m\u001b[0m\n\u001b[1;32m     37\u001b[0m         \u001b[0;32mif\u001b[0m \u001b[0mconfig\u001b[0m \u001b[0;32mis\u001b[0m \u001b[0;32mNone\u001b[0m\u001b[0;34m:\u001b[0m\u001b[0;34m\u001b[0m\u001b[0m\n",
      "\u001b[0;32m/home/valentin/anaconda2/envs/DS-CCMLWI-wg5/lib/python3.5/site-packages/autosklearn/pipeline/base.py\u001b[0m in \u001b[0;36mget_hyperparameter_search_space\u001b[0;34m(self)\u001b[0m\n\u001b[1;32m    206\u001b[0m             self.config_space = self._get_hyperparameter_search_space(\n\u001b[1;32m    207\u001b[0m                 \u001b[0minclude\u001b[0m\u001b[0;34m=\u001b[0m\u001b[0mself\u001b[0m\u001b[0;34m.\u001b[0m\u001b[0minclude_\u001b[0m\u001b[0;34m,\u001b[0m \u001b[0mexclude\u001b[0m\u001b[0;34m=\u001b[0m\u001b[0mself\u001b[0m\u001b[0;34m.\u001b[0m\u001b[0mexclude_\u001b[0m\u001b[0;34m,\u001b[0m\u001b[0;34m\u001b[0m\u001b[0m\n\u001b[0;32m--> 208\u001b[0;31m                 dataset_properties=self.dataset_properties_)\n\u001b[0m\u001b[1;32m    209\u001b[0m         \u001b[0;32mreturn\u001b[0m \u001b[0mself\u001b[0m\u001b[0;34m.\u001b[0m\u001b[0mconfig_space\u001b[0m\u001b[0;34m\u001b[0m\u001b[0m\n\u001b[1;32m    210\u001b[0m \u001b[0;34m\u001b[0m\u001b[0m\n",
      "\u001b[0;32m/home/valentin/anaconda2/envs/DS-CCMLWI-wg5/lib/python3.5/site-packages/autosklearn/pipeline/classification.py\u001b[0m in \u001b[0;36m_get_hyperparameter_search_space\u001b[0;34m(self, include, exclude, dataset_properties)\u001b[0m\n\u001b[1;32m    172\u001b[0m         cs = self._get_base_search_space(\n\u001b[1;32m    173\u001b[0m             \u001b[0mcs\u001b[0m\u001b[0;34m=\u001b[0m\u001b[0mcs\u001b[0m\u001b[0;34m,\u001b[0m \u001b[0mdataset_properties\u001b[0m\u001b[0;34m=\u001b[0m\u001b[0mdataset_properties\u001b[0m\u001b[0;34m,\u001b[0m\u001b[0;34m\u001b[0m\u001b[0m\n\u001b[0;32m--> 174\u001b[0;31m             exclude=exclude, include=include, pipeline=pipeline)\n\u001b[0m\u001b[1;32m    175\u001b[0m \u001b[0;34m\u001b[0m\u001b[0m\n\u001b[1;32m    176\u001b[0m         \u001b[0mclassifiers\u001b[0m \u001b[0;34m=\u001b[0m \u001b[0mcs\u001b[0m\u001b[0;34m.\u001b[0m\u001b[0mget_hyperparameter\u001b[0m\u001b[0;34m(\u001b[0m\u001b[0;34m'classifier:__choice__'\u001b[0m\u001b[0;34m)\u001b[0m\u001b[0;34m.\u001b[0m\u001b[0mchoices\u001b[0m\u001b[0;34m\u001b[0m\u001b[0m\n",
      "\u001b[0;32m/home/valentin/anaconda2/envs/DS-CCMLWI-wg5/lib/python3.5/site-packages/autosklearn/pipeline/base.py\u001b[0m in \u001b[0;36m_get_base_search_space\u001b[0;34m(self, cs, dataset_properties, exclude, include, pipeline)\u001b[0m\n\u001b[1;32m    284\u001b[0m \u001b[0;34m\u001b[0m\u001b[0m\n\u001b[1;32m    285\u001b[0m         matches = autosklearn.pipeline.create_searchspace_util.get_match_array(\n\u001b[0;32m--> 286\u001b[0;31m             pipeline, dataset_properties, include=include, exclude=exclude)\n\u001b[0m\u001b[1;32m    287\u001b[0m \u001b[0;34m\u001b[0m\u001b[0m\n\u001b[1;32m    288\u001b[0m         \u001b[0;31m# Now we have only legal combinations at this step of the pipeline\u001b[0m\u001b[0;34m\u001b[0m\u001b[0;34m\u001b[0m\u001b[0m\n",
      "\u001b[0;32m/home/valentin/anaconda2/envs/DS-CCMLWI-wg5/lib/python3.5/site-packages/autosklearn/pipeline/create_searchspace_util.py\u001b[0m in \u001b[0;36mget_match_array\u001b[0;34m(pipeline, dataset_properties, include, exclude)\u001b[0m\n\u001b[1;32m     32\u001b[0m             node_i_choices_names.append(list(node.get_available_components(\n\u001b[1;32m     33\u001b[0m                 \u001b[0mdataset_properties\u001b[0m\u001b[0;34m,\u001b[0m \u001b[0minclude\u001b[0m\u001b[0;34m=\u001b[0m\u001b[0mnode_include\u001b[0m\u001b[0;34m,\u001b[0m\u001b[0;34m\u001b[0m\u001b[0m\n\u001b[0;32m---> 34\u001b[0;31m                 exclude=node_exclude).keys()))\n\u001b[0m\u001b[1;32m     35\u001b[0m             node_i_choices.append(list(node.get_available_components(\n\u001b[1;32m     36\u001b[0m                 \u001b[0mdataset_properties\u001b[0m\u001b[0;34m,\u001b[0m \u001b[0minclude\u001b[0m\u001b[0;34m=\u001b[0m\u001b[0mnode_include\u001b[0m\u001b[0;34m,\u001b[0m\u001b[0;34m\u001b[0m\u001b[0m\n",
      "\u001b[0;32m/home/valentin/anaconda2/envs/DS-CCMLWI-wg5/lib/python3.5/site-packages/autosklearn/pipeline/components/classification/__init__.py\u001b[0m in \u001b[0;36mget_available_components\u001b[0;34m(cls, dataset_properties, include, exclude)\u001b[0m\n\u001b[1;32m     46\u001b[0m                 \u001b[0;32mif\u001b[0m \u001b[0mincl\u001b[0m \u001b[0;32mnot\u001b[0m \u001b[0;32min\u001b[0m \u001b[0mavailable_comp\u001b[0m\u001b[0;34m:\u001b[0m\u001b[0;34m\u001b[0m\u001b[0m\n\u001b[1;32m     47\u001b[0m                     raise ValueError(\"Trying to include unknown component: \"\n\u001b[0;32m---> 48\u001b[0;31m                                      \"%s\" % incl)\n\u001b[0m\u001b[1;32m     49\u001b[0m \u001b[0;34m\u001b[0m\u001b[0m\n\u001b[1;32m     50\u001b[0m         \u001b[0;32mfor\u001b[0m \u001b[0mname\u001b[0m \u001b[0;32min\u001b[0m \u001b[0mavailable_comp\u001b[0m\u001b[0;34m:\u001b[0m\u001b[0;34m\u001b[0m\u001b[0m\n",
      "\u001b[0;31mValueError\u001b[0m: Trying to include unknown component: svc"
     ]
    }
   ],
   "source": [
    "autoclf = autosklearn.classification.AutoSklearnClassifier(ml_memory_limit=2048, \n",
    "                                                           time_left_for_this_task=180)\n",
    "# the above line translates the following line to autosklearn:\n",
    "# clf = RandomForestClassifier(n_estimators=10, max_depth=None, min_samples_split=2, random_state=0)\n",
    "autoclf.fit(tr_features, tr_labels, metric='f1_metric')\n",
    "# the above line translates the following line to autosklearn:\n",
    "# clf.fit(tr_features, tr_labels)\n",
    "y_hat_intdect = autoclf.predict(test_features)\n",
    "# the above line corresponds to nothing.\n",
    "print(\"F1 score\", sklearn.metrics.accuracy_score(test_features, y_hat_intdect))\n",
    "# the above line translates the following line to autosklearn:\n",
    "# print(clf.score(test_features, test_labels)) # [*]"
   ]
  },
  {
   "cell_type": "markdown",
   "metadata": {
    "collapsed": true,
    "deletable": true,
    "editable": true
   },
   "source": [
    "I can't seem to make this work. Running it in the default format with a limit of a couple minutes gives you an error alone the lines of \"no models trained\" and \"cannot make a prediction without a model\".\n",
    "As per the API/documentation, it should be possible to constrain autosklearn to only specific families of estimators, or even only to one. Trying this (current code above) as described in those same places or ANYWHERE on the internet won't get you there, though. Seems like the current version works a little differently than described. Bummer! Overall, auto-sklearn is not very well documented, which is a known draw-back (also given that the current version is 0.1.3, this might be expected).\n",
    "\n",
    "As I don't have the time to just try running it for a lot longer, I instead want to try something else:"
   ]
  },
  {
   "cell_type": "markdown",
   "metadata": {},
   "source": [
    "## 4. try optimizing hyperparameters with hyperopt\n",
    "\n",
    "Actually using hyperopt-sklearn, a sklearn wrapper of hyperopt. See https://hyperopt.github.io/hyperopt-sklearn/.\n",
    "\n",
    "(This still gives us automation of hyperparameter optimization of our desired estimator, but it's a little simpler than auto-sklearn. Might be a benefit now.)"
   ]
  },
  {
   "cell_type": "markdown",
   "metadata": {},
   "source": [
    "Starting small: try out one of the examples."
   ]
  },
  {
   "cell_type": "code",
   "execution_count": 2,
   "metadata": {
    "collapsed": false,
    "deletable": true,
    "editable": true
   },
   "outputs": [],
   "source": [
    "from hpsklearn import HyperoptEstimator, any_classifier\n",
    "import sklearn\n",
    "from sklearn.datasets import fetch_mldata\n",
    "from hyperopt import tpe\n",
    "import numpy as np\n",
    "\n",
    "# Download the data and split into training and test sets\n",
    "\n",
    "digits = sklearn.datasets.load_digits()\n",
    "\n",
    "X = digits.data\n",
    "y = digits.target\n",
    "\n",
    "test_size = int( 0.2 * len( y ) )\n",
    "np.random.seed( 1 )\n",
    "indices = np.random.permutation(len(X))\n",
    "X_train = X[ indices[:-test_size]]\n",
    "y_train = y[ indices[:-test_size]]\n",
    "X_test = X[ indices[-test_size:]]\n",
    "y_test = y[ indices[-test_size:]]"
   ]
  },
  {
   "cell_type": "code",
   "execution_count": 3,
   "metadata": {
    "collapsed": true,
    "deletable": true,
    "editable": true
   },
   "outputs": [],
   "source": [
    "#estim = HyperoptEstimator( classifier=any_classifier('clf'),  \n",
    "#                            algo=tpe.suggest, trial_timeout=300)\n",
    "\n",
    "estim = HyperoptEstimator( algo=tpe.suggest, \n",
    "                            max_evals=150, \n",
    "                            trial_timeout=60 )"
   ]
  },
  {
   "cell_type": "code",
   "execution_count": null,
   "metadata": {
    "collapsed": true,
    "deletable": true,
    "editable": true
   },
   "outputs": [],
   "source": [
    "estim.fit( X_train, y_train )"
   ]
  },
  {
   "cell_type": "code",
   "execution_count": null,
   "metadata": {
    "collapsed": false,
    "deletable": true,
    "editable": true
   },
   "outputs": [],
   "source": [
    "print( estim.score( X_test, y_test ) )\n",
    "# <<show score here>>\n",
    "print( estim.best_model() )\n",
    "# <<show model here>>"
   ]
  }
 ],
 "metadata": {
  "kernelspec": {
   "display_name": "Python 3",
   "language": "python",
   "name": "python3"
  },
  "language_info": {
   "codemirror_mode": {
    "name": "ipython",
    "version": 3
   },
   "file_extension": ".py",
   "mimetype": "text/x-python",
   "name": "python",
   "nbconvert_exporter": "python",
   "pygments_lexer": "ipython3",
   "version": "3.5.3"
  }
 },
 "nbformat": 4,
 "nbformat_minor": 2
}
