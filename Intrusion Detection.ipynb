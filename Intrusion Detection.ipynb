{
 "cells": [
  {
   "cell_type": "markdown",
   "metadata": {},
   "source": [
    "#### wg 5 assignment\n",
    "# Anomaly Detection\n",
    "\n",
    "(This code brances off of committ 29821ccffaca5817b3fe0b3ae2d972f8132b7999.)\n",
    "\n",
    "(As an aside, I'm using python 3, not 2. Only change that had to be made was on the print statement at [*])"
   ]
  },
  {
   "cell_type": "markdown",
   "metadata": {},
   "source": [
    "Imports"
   ]
  },
  {
   "cell_type": "code",
   "execution_count": 1,
   "metadata": {
    "collapsed": true
   },
   "outputs": [],
   "source": [
    "import pandas as pd\n",
    "import numpy as np\n",
    "import sklearn as sk\n",
    "from sklearn import preprocessing\n",
    "from sklearn.ensemble import RandomForestClassifier"
   ]
  },
  {
   "cell_type": "markdown",
   "metadata": {},
   "source": [
    "Read data."
   ]
  },
  {
   "cell_type": "code",
   "execution_count": 2,
   "metadata": {
    "collapsed": true
   },
   "outputs": [],
   "source": [
    "header = pd.read_table(\"kddcup.names.txt\", header=None)\n",
    "att_types = pd.read_table(\"training_attack_types.txt\", sep=\" \", header=None)\n",
    "\n",
    "tr_raw = pd.read_csv(\"kddcup.data_10_percent_corrected\", header=None)\n",
    "test_raw = pd.read_csv(\"kddcup_testdata.corrected\", header=None)"
   ]
  },
  {
   "cell_type": "markdown",
   "metadata": {},
   "source": [
    "Do the preprocessing."
   ]
  },
  {
   "cell_type": "code",
   "execution_count": 3,
   "metadata": {
    "collapsed": true
   },
   "outputs": [],
   "source": [
    "def preprocess(dat):\n",
    "    dat.columns = header[0]\n",
    "    att_types.columns = [\"attack\", \"type\"]\n",
    "    dat[\"type\"] = np.nan\n",
    "    for i in range(0, len(att_types[\"attack\"])):\n",
    "        dat.loc[dat[\"attack\"] == att_types.loc[i,].attack, \"type\"] = att_types.loc[i,].type\n",
    "    dat.type = dat.type.fillna(\"unlisted\")\n",
    "    dat.attack = dat.attack.astype('category')\n",
    "\n",
    "    dat[dat.select_dtypes(include=['number']).columns] = preprocessing.scale(\n",
    "        dat[dat.select_dtypes(include=['number']).columns])\n",
    "    dat = pd.get_dummies(dat, columns=['protocol_type', 'service', 'flag'])\n",
    "\n",
    "    return dat"
   ]
  },
  {
   "cell_type": "code",
   "execution_count": 4,
   "metadata": {
    "collapsed": true
   },
   "outputs": [],
   "source": [
    "tr = preprocess(tr_raw)\n",
    "test = preprocess(test_raw)  # actual test data (but labeled--don't cheat!)"
   ]
  },
  {
   "cell_type": "markdown",
   "metadata": {},
   "source": [
    "Prepare for classification."
   ]
  },
  {
   "cell_type": "code",
   "execution_count": 5,
   "metadata": {
    "collapsed": true
   },
   "outputs": [],
   "source": [
    "# not occurring in training set but occuring in test set so we just add it\n",
    "tr['service_icmp'] = 0\n",
    "test['service_red_i'] = 0\n",
    "test['service_urh_i'] = 0"
   ]
  },
  {
   "cell_type": "code",
   "execution_count": 6,
   "metadata": {
    "collapsed": true
   },
   "outputs": [],
   "source": [
    "tr_labels = tr[\"type\"].values\n",
    "tr_features = tr.drop([\"type\", \"attack\"], axis=1).values"
   ]
  },
  {
   "cell_type": "code",
   "execution_count": 7,
   "metadata": {
    "collapsed": true
   },
   "outputs": [],
   "source": [
    "test_labels = test[\"type\"].values\n",
    "test_features = test.drop([\"type\", \"attack\"], axis=1).values"
   ]
  },
  {
   "cell_type": "code",
   "execution_count": 10,
   "metadata": {
    "collapsed": false
   },
   "outputs": [
    {
     "name": "stdout",
     "output_type": "stream",
     "text": [
      "0.966704069395\n"
     ]
    }
   ],
   "source": [
    "clf = RandomForestClassifier(n_estimators=10, max_depth=None, min_samples_split=2, random_state=0)\n",
    "clf.fit(tr_features, tr_labels)\n",
    "print(clf.score(test_features, test_labels)) # [*]"
   ]
  },
  {
   "cell_type": "code",
   "execution_count": null,
   "metadata": {
    "collapsed": true
   },
   "outputs": [],
   "source": []
  }
 ],
 "metadata": {
  "kernelspec": {
   "display_name": "Python 3",
   "language": "python",
   "name": "python3"
  },
  "language_info": {
   "codemirror_mode": {
    "name": "ipython",
    "version": 3
   },
   "file_extension": ".py",
   "mimetype": "text/x-python",
   "name": "python",
   "nbconvert_exporter": "python",
   "pygments_lexer": "ipython3",
   "version": "3.5.3"
  }
 },
 "nbformat": 4,
 "nbformat_minor": 2
}
